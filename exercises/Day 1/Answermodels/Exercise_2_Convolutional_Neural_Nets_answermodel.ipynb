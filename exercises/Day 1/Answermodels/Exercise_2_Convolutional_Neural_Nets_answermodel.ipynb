{
 "cells": [
  {
   "cell_type": "markdown",
   "metadata": {
    "colab_type": "text",
    "id": "iz9bKI5HlXh9"
   },
   "source": [
    "# Exercise 2 - Convolutional Neural Nets (CNN's)\n",
    "\n",
    "In the last notebook you built a feedforward net, and found that it could recognise handwritten digits remarkably well. However, when trying to recognise diverse objects on images we ran into performance issues. In this notebook you will learn to implement a simple CNN in Keras and apply it to CIFAR-10.\n",
    "\n",
    "The set-up of this notebook is similar to the previous. You are expected to complete certain parts of the code to be able to run it."
   ]
  },
  {
   "cell_type": "markdown",
   "metadata": {
    "colab_type": "text",
    "id": "rMNU32KFlXh_"
   },
   "source": [
    "## 1 - Packages\n",
    "\n",
    "First we begin by importing the required packages"
   ]
  },
  {
   "cell_type": "code",
   "execution_count": 1,
   "metadata": {
    "colab": {
     "base_uri": "https://localhost:8080/",
     "height": 71
    },
    "colab_type": "code",
    "id": "O5uZp7AalXiA",
    "outputId": "31c4f430-eb0d-4eca-9ce3-421dce479ec8"
   },
   "outputs": [
    {
     "name": "stdout",
     "output_type": "stream",
     "text": [
      "Download file... utils_day1.py ...\n",
      "File downloaded\n"
     ]
    },
    {
     "name": "stderr",
     "output_type": "stream",
     "text": [
      "C:\\Users\\palka\\Anaconda3\\lib\\site-packages\\h5py\\__init__.py:34: FutureWarning: Conversion of the second argument of issubdtype from `float` to `np.floating` is deprecated. In future, it will be treated as `np.float64 == np.dtype(float).type`.\n",
      "  from ._conv import register_converters as _register_converters\n",
      "Using TensorFlow backend.\n"
     ]
    }
   ],
   "source": [
    "#download required datasets for this notebook (might take a bit, be patient!)\n",
    "from urllib.request import urlretrieve\n",
    "import os\n",
    "from zipfile import ZipFile\n",
    "\n",
    "def download(url, file):\n",
    "    if os.path.isfile(file):\n",
    "        os.remove(file)\n",
    "    if not os.path.isfile(file):\n",
    "        print(\"Download file... \" + file + \" ...\")\n",
    "        urlretrieve(url,file)\n",
    "        print(\"File downloaded\")\n",
    "        \n",
    "def unzip(file):\n",
    "    with ZipFile(file) as f:\n",
    "        f.extractall()\n",
    "    print('unzipped file: %s\\n' %file)\n",
    "\n",
    "try:\n",
    "    download('http://www.paulvangent.com/files/DL_Course/utils_day1.py', 'utils_day1.py')\n",
    "except:\n",
    "    download('https://onedrive.live.com/download?cid=39383A5AFCD95065&resid=39383A5AFCD95065%21754588&authkey=ANqFqQOFr4Iqy1A', 'utils_day1.py')\n",
    "\n",
    "import numpy as np #import numpy package\n",
    "import matplotlib.pyplot as plt #import plotting library\n",
    "import utils_day1 as utils #import helper functions\n",
    "\n",
    "#import required keras modules\n",
    "from keras.models import Sequential \n",
    "from keras.layers import Dense, Dropout, Flatten, Conv2D, Conv1D, MaxPooling2D, RepeatVector"
   ]
  },
  {
   "cell_type": "markdown",
   "metadata": {
    "colab_type": "text",
    "id": "TKjQRsTGlXiF"
   },
   "source": [
    "## 2 - Dataset\n",
    "\n",
    "We load the CIFAR-10 dataset again. \n",
    "\n",
    "**Note** that we do not need to flatten the images. Remember from the lecture that a convolution can operate on two dimensional image data."
   ]
  },
  {
   "cell_type": "code",
   "execution_count": 2,
   "metadata": {
    "colab": {},
    "colab_type": "code",
    "collapsed": true,
    "id": "YvsZuOJllXiF"
   },
   "outputs": [],
   "source": [
    "from keras.datasets import cifar10\n",
    "\n",
    "(X_train, Y_train), (X_val, Y_val) = cifar10.load_data()"
   ]
  },
  {
   "cell_type": "markdown",
   "metadata": {
    "colab_type": "text",
    "id": "A9-Y_dvMlXiH"
   },
   "source": [
    "We do, however, still need to apply one-hot encoding and normalise the images. In the last notebook you did this with [numpy.eye()](https://docs.scipy.org/doc/numpy/reference/generated/numpy.eye.html).\n",
    "\n",
    "Your task here is to use a built-in keras function, called [to_categorical](https://keras.io/utils/#to_categorical). Complete the code below to convert Y_train and Y_val to one-hot encoding using this function. Look at the link for a hint, and note that the dataset has **10 classes**."
   ]
  },
  {
   "cell_type": "code",
   "execution_count": 3,
   "metadata": {
    "colab": {
     "base_uri": "https://localhost:8080/",
     "height": 89
    },
    "colab_type": "code",
    "id": "GByMjJexlXiH",
    "outputId": "804fcdbb-da50-4a58-b47a-92de097f96ef"
   },
   "outputs": [
    {
     "name": "stdout",
     "output_type": "stream",
     "text": [
      "Shape of first training label: (10,)\n",
      "Shape of last validation label: (10,)\n",
      "mean pixel value of first training example: 0.40567555147058826\n",
      "mean pixel value of last validation example: 0.42338388480392153\n"
     ]
    }
   ],
   "source": [
    "from keras.utils import to_categorical\n",
    "\n",
    "#Apply one-hot encoding\n",
    "##Start your code here (approx. 2 lines)\n",
    "Y_train = to_categorical(Y_train, num_classes=10)\n",
    "Y_val = to_categorical(Y_val, num_classes=10)\n",
    "##End of your code\n",
    "\n",
    "#Normalise the images\n",
    "##Start your code here (approx. 2 lines)\n",
    "X_train = X_train / 255.\n",
    "X_val = X_val / 255.\n",
    "#End your code here\n",
    "\n",
    "print('Shape of first training label: ' + str(Y_train[0].shape))\n",
    "print('Shape of last validation label: ' + str(Y_val[-1].shape))\n",
    "print('mean pixel value of first training example: ' + str(np.mean(X_train[0])))\n",
    "print('mean pixel value of last validation example: ' + str(np.mean(X_val[-1])))"
   ]
  },
  {
   "cell_type": "markdown",
   "metadata": {
    "colab_type": "text",
    "id": "WWOozptalXiK"
   },
   "source": [
    "***\n",
    "\n",
    "**Expected output:**\n",
    "\n",
    "Shape of first training label: (10,)  \n",
    "Shape of last validation label: (10,)  \n",
    "mean pixel value of first training example: 0.405675551471  \n",
    "mean pixel value of last validation example: 0.423383884804"
   ]
  },
  {
   "cell_type": "markdown",
   "metadata": {
    "colab_type": "text",
    "id": "WmlwWktTlXiK"
   },
   "source": [
    "## 3 - Defining a CNN in Keras\n",
    "\n",
    "Implementing a CNN in Keras is very similar to implementing a feedforward network, with the exception that we use different layer types. For an overview of all available convolutional layers, see [this link](https://keras.io/layers/convolutional/).\n",
    "\n",
    "[**Please take a look here for some additional reading material regarding Convolutions**](https://arxiv.org/pdf/1603.07285v1.pdf)\n"
   ]
  },
  {
   "cell_type": "markdown",
   "metadata": {
    "colab_type": "text",
    "id": "HsJAOn1vlXiL"
   },
   "source": [
    "***\n",
    "\n",
    "Your task is to implement a CNN with the following structure:\n",
    "\n",
    "- Convolutional 2D input layer. Use the following parameters:\n",
    "    * 32 filters\n",
    "    * kernel size of (3, 3)\n",
    "    * set padding to 'same'\n",
    "    * input shape equal to input_shape\n",
    "    * relu activation\n",
    "- Max pooling 2D layer. Use a poolsize of (2, 2)\n",
    "- Regularisation layer. Use a dropout rate of 20%\n",
    "- Flattening layer \n",
    "- Dense layer, use 256 units and relu activation.\n",
    "- Output layer with 10 classes and softmax activation.\n",
    "\n",
    "\n",
    "Can you explain **why** we need to add a flatten layer between the CNN part of the network and the Dense layers?"
   ]
  },
  {
   "cell_type": "code",
   "execution_count": 8,
   "metadata": {
    "colab": {},
    "colab_type": "code",
    "collapsed": true,
    "id": "eS57tzdDlXiL"
   },
   "outputs": [],
   "source": [
    "def baseline_model(input_shape=(32,32,3), classes=10):\n",
    "    model = Sequential()\n",
    "    ##Add your code here (approx. 6 lines)\n",
    "    model.add(Conv2D(filters=32,\n",
    "                     kernel_size=(3, 3),\n",
    "                     padding='same',\n",
    "                     strides=(2,2),\n",
    "                     input_shape=input_shape,\n",
    "                     activation='relu'))\n",
    "    model.add(MaxPooling2D(pool_size=(2,2)))\n",
    "    model.add(Dropout(rate=0.2))\n",
    "    model.add(Flatten())\n",
    "    model.add(Dense(256, activation='relu'))\n",
    "    model.add(Dense(10, activation='softmax'))\n",
    "    ##End of your code\n",
    "    \n",
    "    \n",
    "    return model"
   ]
  },
  {
   "cell_type": "markdown",
   "metadata": {
    "colab_type": "text",
    "id": "Fnlb1EA_lXiN"
   },
   "source": [
    "We then initialise the model:"
   ]
  },
  {
   "cell_type": "code",
   "execution_count": 9,
   "metadata": {
    "colab": {
     "base_uri": "https://localhost:8080/",
     "height": 485
    },
    "colab_type": "code",
    "id": "EznRMC-_lXiN",
    "outputId": "6fcc24cb-1a0a-4f1d-b765-efd8ad10bea0",
    "scrolled": true
   },
   "outputs": [
    {
     "name": "stdout",
     "output_type": "stream",
     "text": [
      "_________________________________________________________________\n",
      "Layer (type)                 Output Shape              Param #   \n",
      "=================================================================\n",
      "conv2d_3 (Conv2D)            (None, 16, 16, 32)        896       \n",
      "_________________________________________________________________\n",
      "max_pooling2d_3 (MaxPooling2 (None, 8, 8, 32)          0         \n",
      "_________________________________________________________________\n",
      "dropout_3 (Dropout)          (None, 8, 8, 32)          0         \n",
      "_________________________________________________________________\n",
      "flatten_3 (Flatten)          (None, 2048)              0         \n",
      "_________________________________________________________________\n",
      "dense_5 (Dense)              (None, 256)               524544    \n",
      "_________________________________________________________________\n",
      "dense_6 (Dense)              (None, 10)                2570      \n",
      "=================================================================\n",
      "Total params: 528,010\n",
      "Trainable params: 528,010\n",
      "Non-trainable params: 0\n",
      "_________________________________________________________________\n",
      "None\n"
     ]
    }
   ],
   "source": [
    "model = baseline_model()\n",
    "\n",
    "print(model.summary())"
   ]
  },
  {
   "cell_type": "markdown",
   "metadata": {
    "colab_type": "text",
    "id": "F0D1QpGmlXiQ"
   },
   "source": [
    "***\n",
    "**Expected Output:**\n",
    "\n",
    "![model summary](http://www.paulvangent.com/files/DL_Course/day1_images/cnn_network.jpg)\n",
    "\n",
    "**Compare this to the FeedForward network summary from the previous notebook (we've recreated the image below).**\n",
    "\n",
    "![FFN model](http://www.paulvangent.com/files/DL_Course/day1_images/feedforwardmodel.jpg)\n",
    "\n",
    "**Can you explain why the CNN has fewer parameters, yet gets much better results?**\n",
    "\n",
    "\n",
    "***\n",
    "## 4 - Loss Functions and Optimization\n",
    "\n",
    "This section will detail the loss function and optimization of your network.\n",
    "\n",
    "### 4.1 Loss Function\n",
    "Remember from the lecture this morning, that in order to optimize the model we need to express its accuracy. Expressing the mistakes the model makes is done with a loss function, which quantifies the distance between the expected output and the predicted output. An easy example to understand is that of the logistic loss function:\n",
    "\n",
    "![logloss](http://www.paulvangent.com/files/DL_Course/day1_images/logloss.jpg)\n",
    "\n",
    "**Note:** **y** is often used for the true label, and y-hat (**ŷ**) for the predicted value.\n",
    "\n",
    "To see what it does, note that the function has two sides (left and right of ‘+’). The function expresses the similarity of prediction and true value. It 'punishes' larger deviations more severly. When the prediction and true value are very similar the loss is low, when they differ a lot the loss is high. To think visually, consider the plot below:\n",
    "\n",
    "![loglossgraph](http://www.paulvangent.com/files/DL_Course/day1_images/log_loss_graph.png)\n",
    "\n",
    "Still not 100% clear on what happens? Consider two opposite cases:\n",
    "\n",
    "***\n",
    "<center>**y=1**  \n",
    "The right side of the formula falls off because (1 – y) = 0, so that implies that for -log(ŷ) you want ŷ to be 1 (or close to 1), since log(1)=0.  </center>\n",
    "  \n",
    "<center>**y=0**  \n",
    "Now the left side of the formula falls off (0 log (ŷ) = ..). Now we need log(1 – ŷ) to be close to 0 to mach y, which happens if ŷ=0.</center>\n",
    "\n",
    "***\n",
    "\n",
    "Logloss is only applicable when there are two possible outcomes (binary classification). In the exercise below we will be using **categorical crossentropy**, which is very similar to logloss, except that it can handle more than two possible outcomes.\n",
    "\n",
    "[**You can see the mathematical definition of the categorical crossentropy here**](https://rdipietro.github.io/friendly-intro-to-cross-entropy-loss/)\n",
    "\n",
    "***\n",
    "\n",
    "### 4.2 - Optimizer\n",
    "The loss function allows us to quantify the mistakes made by model, which makes it possible to reduce them. Remember from the lectures that the optimizer will try to gradually step towards a point of minimum loss. Consider a hypothetical, one-dimensional loss function to illustrate:\n",
    "\n",
    "![onedimloss](http://www.paulvangent.com/files/DL_Course/day1_images/gradientdescent0.jpg)\n",
    "\n",
    "Obviously we want to minimise **C(W)**, because a low loss means the difference between predictions and actual values is small as we discussed in 4.1. In the context of the figure: the optimizer decides which way is 'downhill', and updates the model's weights so that the loss decreases:\n",
    "\n",
    "![stepping to minimum](http://www.paulvangent.com/files/DL_Course/day1_images/gradientdescent2.jpg)\n",
    "\n",
    "An excellent overview of the different optimizers [can be found here](http://ruder.io/optimizing-gradient-descent/).\n",
    "\n",
    "In this notebook we use the Adam optimiser. In many cases Adam will converge quickly, which is useful here because many of you are running the code without a GPU.\n",
    "\n",
    "***\n",
    "**Exercise:**  \n",
    "We still need to compile the model, meaning we will be asking Keras to transform our model instructions into machine-readable code. Compile the model with a 'categorical_crossentropy' loss and an 'adam' optimizer. \n",
    "\n",
    "Hint: refer to how we did this in the previous notebook if you're unsure how to do this."
   ]
  },
  {
   "cell_type": "code",
   "execution_count": 10,
   "metadata": {
    "colab": {},
    "colab_type": "code",
    "collapsed": true,
    "id": "PQeTJyBLlXiR"
   },
   "outputs": [],
   "source": [
    "##Add your code here (approx. 1 line)\n",
    "model.compile(loss='categorical_crossentropy',\n",
    "             optimizer='adam',\n",
    "             metrics=['accuracy'])\n",
    "##End of your code"
   ]
  },
  {
   "cell_type": "markdown",
   "metadata": {
    "colab_type": "text",
    "id": "kp5l1szDlXiT"
   },
   "source": [
    "Your task is now to fit the model for 10 epochs with a batch size of 256. Remember to also set the validation data sets!\n",
    "\n",
    "Hint: Refer to the previous notebook on how to do so if you are unsure."
   ]
  },
  {
   "cell_type": "code",
   "execution_count": 11,
   "metadata": {
    "colab": {
     "base_uri": "https://localhost:8080/",
     "height": 449
    },
    "colab_type": "code",
    "id": "-6BRaz3vlXiT",
    "outputId": "03e1de89-bb93-4571-8ba6-702209ba91af"
   },
   "outputs": [
    {
     "name": "stdout",
     "output_type": "stream",
     "text": [
      "Train on 50000 samples, validate on 10000 samples\n",
      "Epoch 1/10\n",
      "50000/50000 [==============================] - 7s 132us/step - loss: 1.6509 - acc: 0.4168 - val_loss: 1.4013 - val_acc: 0.5042\n",
      "Epoch 2/10\n",
      "50000/50000 [==============================] - 3s 63us/step - loss: 1.3424 - acc: 0.5294 - val_loss: 1.2620 - val_acc: 0.5604\n",
      "Epoch 3/10\n",
      "50000/50000 [==============================] - 3s 63us/step - loss: 1.2542 - acc: 0.5612 - val_loss: 1.2198 - val_acc: 0.5778\n",
      "Epoch 4/10\n",
      "50000/50000 [==============================] - 3s 63us/step - loss: 1.1904 - acc: 0.5836 - val_loss: 1.1748 - val_acc: 0.5852\n",
      "Epoch 5/10\n",
      "50000/50000 [==============================] - 3s 63us/step - loss: 1.1481 - acc: 0.5970 - val_loss: 1.1384 - val_acc: 0.6026\n",
      "Epoch 6/10\n",
      "50000/50000 [==============================] - 3s 62us/step - loss: 1.1001 - acc: 0.6158 - val_loss: 1.1094 - val_acc: 0.6138\n",
      "Epoch 7/10\n",
      "50000/50000 [==============================] - 3s 62us/step - loss: 1.0646 - acc: 0.6261 - val_loss: 1.0690 - val_acc: 0.6269\n",
      "Epoch 8/10\n",
      "50000/50000 [==============================] - 3s 62us/step - loss: 1.0277 - acc: 0.6427 - val_loss: 1.0629 - val_acc: 0.6281\n",
      "Epoch 9/10\n",
      "50000/50000 [==============================] - 3s 61us/step - loss: 0.9949 - acc: 0.6545 - val_loss: 1.0414 - val_acc: 0.6348\n",
      "Epoch 10/10\n",
      "50000/50000 [==============================] - 3s 62us/step - loss: 0.9634 - acc: 0.6647 - val_loss: 1.0558 - val_acc: 0.6339\n"
     ]
    }
   ],
   "source": [
    "##Add your code here\n",
    "history = model.fit(X_train, Y_train,\n",
    "                   validation_data = (X_val, Y_val),\n",
    "                   epochs=10,\n",
    "                   batch_size=256)\n",
    "##End of your code."
   ]
  },
  {
   "cell_type": "markdown",
   "metadata": {
    "colab_type": "text",
    "id": "FZtG-C5tlXiW"
   },
   "source": [
    "\n",
    "***\n",
    "Note that we added 'history = ' before the model.fit command. Remember that by default, a Keras model will return a history object containing information on the training epochs. Run the cell below to plot the results of your training phase"
   ]
  },
  {
   "cell_type": "code",
   "execution_count": 12,
   "metadata": {
    "colab": {
     "base_uri": "https://localhost:8080/",
     "height": 441
    },
    "colab_type": "code",
    "id": "7yJHxjiVlXiW",
    "outputId": "d6e25187-0897-49d8-8543-3c74f42942da"
   },
   "outputs": [
    {
     "data": {
      "image/png": "[encoded data removed]",
      "text/plain": [
       "<matplotlib.figure.Figure at 0x1fb5b369f98>"
      ]
     },
     "metadata": {},
     "output_type": "display_data"
    }
   ],
   "source": [
    "utils.plotter(history)"
   ]
  },
  {
   "cell_type": "markdown",
   "metadata": {
    "colab_type": "text",
    "id": "ApCqwk-NlXiY"
   },
   "source": [
    "Take a look at the plot. **What do you think? Is the model overfitting or not? Why (not)?** \n",
    "\n",
    "Based on this graph, would you try to run the model for more epochs or not?\n",
    "\n",
    "***"
   ]
  },
  {
   "cell_type": "markdown",
   "metadata": {
    "colab_type": "text",
    "collapsed": true,
    "id": "cgwFUAlllXiZ"
   },
   "source": [
    "## 5 - Expanding the CNN (optional)\n",
    "\n",
    "In this last section of the notebook we will be expanding the CNN network. A bigger network will have more capacity to fit the variance in the dataset.\n",
    "\n",
    "This section is optional because without a discrete GPU (which most of your laptops will not have), training will take long. Once it works you can turn on the model at night and let the laptop run for a while."
   ]
  },
  {
   "cell_type": "markdown",
   "metadata": {
    "colab_type": "text",
    "id": "51DshUhflXiZ"
   },
   "source": [
    "We have copied an example of the baseline model below. Your task is to add two Conv2D layers to it.\n",
    "\n",
    "- Convolutional 2D input layer. Use the following parameters:\n",
    "    * 64 filters\n",
    "    * filtersize of (5, 5)\n",
    "    * use 'same' padding\n",
    "    * input shape of (32, 32, 3)\n",
    "    * relu activation\n",
    "- Max Pooling layer with a poolsize of 2\n",
    "- Convolutional 2D input layer. Use the following parameters:\n",
    "    * 128 filters\n",
    "    * filtersize of (3, 3)\n",
    "    * use 'same' padding\n",
    "    * input shape of (32, 32, 3)\n",
    "    * relu activation"
   ]
  },
  {
   "cell_type": "code",
   "execution_count": 13,
   "metadata": {
    "colab": {},
    "colab_type": "code",
    "collapsed": true,
    "id": "v3ZVS7TllXia"
   },
   "outputs": [],
   "source": [
    "def expanded_model(input_shape=(32, 32, 3), classes=10):\n",
    "    ##Add your code here (approx. 5 lines)\n",
    "    model = Sequential()\n",
    "    model.add(Conv2D(filters=64,\n",
    "                     kernel_size=(5, 5),\n",
    "                     padding='same',\n",
    "                     input_shape=input_shape,\n",
    "                     activation='relu'))\n",
    "    model.add(MaxPooling2D(pool_size=(2,2)))\n",
    "    model.add(Conv2D(filters=128,\n",
    "                     kernel_size=(3, 3),\n",
    "                     activation='relu'))\n",
    "    model.add(MaxPooling2D(pool_size=(2,2)))\n",
    "    ##End of your code\n",
    "    model.add(Dropout(rate=0.2))\n",
    "    model.add(Flatten())\n",
    "    model.add(Dense(256, activation='relu'))\n",
    "    model.add(Dropout(rate=0.2))\n",
    "    model.add(Dense(128, activation='relu'))\n",
    "    model.add(Dense(classes, activation='softmax'))\n",
    "    ##End of your code\n",
    "    \n",
    "    \n",
    "    return model"
   ]
  },
  {
   "cell_type": "code",
   "execution_count": 14,
   "metadata": {
    "colab": {},
    "colab_type": "code",
    "collapsed": true,
    "id": "YUZ1wZU2lXib"
   },
   "outputs": [],
   "source": [
    "model = expanded_model()\n",
    "\n",
    "model.compile(loss='categorical_crossentropy',\n",
    "             optimizer='adam',\n",
    "             metrics=['accuracy'])"
   ]
  },
  {
   "cell_type": "markdown",
   "metadata": {
    "colab_type": "text",
    "id": "-hL79KxRlXid"
   },
   "source": [
    "Your task here is to again fit the model. Use the same setting as earlier (10 epochs, batchsize 256)."
   ]
  },
  {
   "cell_type": "code",
   "execution_count": 15,
   "metadata": {
    "colab": {
     "base_uri": "https://localhost:8080/",
     "height": 819
    },
    "colab_type": "code",
    "id": "UnWjIJ44lXie",
    "outputId": "e68308a3-69bd-45a3-a0ba-c1549b6debe0"
   },
   "outputs": [
    {
     "name": "stdout",
     "output_type": "stream",
     "text": [
      "Train on 50000 samples, validate on 10000 samples\n",
      "Epoch 1/10\n",
      "50000/50000 [==============================] - 7s 134us/step - loss: 1.6107 - acc: 0.4151 - val_loss: 1.3308 - val_acc: 0.5196\n",
      "Epoch 2/10\n",
      "50000/50000 [==============================] - 6s 118us/step - loss: 1.2165 - acc: 0.5659 - val_loss: 1.0820 - val_acc: 0.6196\n",
      "Epoch 3/10\n",
      "50000/50000 [==============================] - 6s 118us/step - loss: 1.0394 - acc: 0.6327 - val_loss: 0.9469 - val_acc: 0.6674\n",
      "Epoch 4/10\n",
      "50000/50000 [==============================] - 6s 119us/step - loss: 0.9290 - acc: 0.6746 - val_loss: 0.9161 - val_acc: 0.6816\n",
      "Epoch 5/10\n",
      "50000/50000 [==============================] - 6s 119us/step - loss: 0.8381 - acc: 0.7071 - val_loss: 0.8984 - val_acc: 0.6855\n",
      "Epoch 6/10\n",
      "50000/50000 [==============================] - 6s 118us/step - loss: 0.7561 - acc: 0.7372 - val_loss: 0.8211 - val_acc: 0.7177\n",
      "Epoch 7/10\n",
      "50000/50000 [==============================] - 6s 119us/step - loss: 0.6910 - acc: 0.7571 - val_loss: 0.8174 - val_acc: 0.7221\n",
      "Epoch 8/10\n",
      "50000/50000 [==============================] - 6s 121us/step - loss: 0.6325 - acc: 0.7785 - val_loss: 0.8117 - val_acc: 0.7238\n",
      "Epoch 9/10\n",
      "50000/50000 [==============================] - 6s 123us/step - loss: 0.5777 - acc: 0.7976 - val_loss: 0.7837 - val_acc: 0.7357\n",
      "Epoch 10/10\n",
      "50000/50000 [==============================] - 6s 122us/step - loss: 0.5250 - acc: 0.8147 - val_loss: 0.8136 - val_acc: 0.7363\n"
     ]
    },
    {
     "data": {
      "image/png": "[encoded data removed]",
      "text/plain": [
       "<matplotlib.figure.Figure at 0x1fb5bc4df98>"
      ]
     },
     "metadata": {},
     "output_type": "display_data"
    }
   ],
   "source": [
    "##Add your code here\n",
    "history = model.fit(X_train, Y_train,\n",
    "                   validation_data = (X_val, Y_val),\n",
    "                   epochs=10,\n",
    "                   batch_size=256)\n",
    "##End of your code.\n",
    "\n",
    "utils.plotter(history) #plot results"
   ]
  },
  {
   "cell_type": "markdown",
   "metadata": {
    "colab_type": "text",
    "id": "3HJi5_7xlXig"
   },
   "source": [
    "So, how did the model perform? Our iteration reached ~73% in the end. **Would you try extra epochs? Why (not)?**\n",
    "\n",
    "You might wonder, how does the model work on the MNIST dataset from the first notebook? It would take too much time to let the model converge on your laptop in the few hours we have today. We ran it for 25 epochs on a gpu though, and it reached **98.94%** validation accuracy. That's pretty good!"
   ]
  },
  {
   "cell_type": "markdown",
   "metadata": {
    "colab_type": "text",
    "id": "Og1fGGEglXih"
   },
   "source": [
    "## 6 - Wrapping up\n",
    "\n",
    "You've reached the end of the second notebook. Hoo-ray, you're now a certified Deep Learner! You might now want to go online, get some bigger datasets, and try larger networks for yourself. You might also want to try applying what you learned to your own data.\n",
    "\n",
    "Be warned that beyond this point a GPU becomes mandatory. Even a low-budget one can speed up training dramatically, making the difference between fitting a model for a night or over a month.\n",
    "\n",
    "![GPU MANDATORY](http://www.paulvangent.com/files/DL_Course/day1_images/needgpu.jpg)\n",
    "\n",
    "***\n",
    "\n",
    "Tomorrow there will be more exercises!"
   ]
  },
  {
   "cell_type": "code",
   "execution_count": 0,
   "metadata": {
    "colab": {},
    "colab_type": "code",
    "collapsed": true,
    "id": "bflfs1grlXii"
   },
   "outputs": [],
   "source": []
  },
  {
   "cell_type": "code",
   "execution_count": 0,
   "metadata": {
    "colab": {},
    "colab_type": "code",
    "collapsed": true,
    "id": "AiZE9WzHlXik"
   },
   "outputs": [],
   "source": []
  }
 ],
 "metadata": {
  "accelerator": "GPU",
  "colab": {
   "collapsed_sections": [],
   "name": "Exercise_2_Convolutional_Neural_Nets_answermodel.ipynb",
   "provenance": [],
   "version": "0.3.2"
  },
  "kernelspec": {
   "display_name": "Python 3",
   "language": "python",
   "name": "python3"
  },
  "language_info": {
   "codemirror_mode": {
    "name": "ipython",
    "version": 3
   },
   "file_extension": ".py",
   "mimetype": "text/x-python",
   "name": "python",
   "nbconvert_exporter": "python",
   "pygments_lexer": "ipython3",
   "version": "3.6.3"
  }
 },
 "nbformat": 4,
 "nbformat_minor": 1
}
