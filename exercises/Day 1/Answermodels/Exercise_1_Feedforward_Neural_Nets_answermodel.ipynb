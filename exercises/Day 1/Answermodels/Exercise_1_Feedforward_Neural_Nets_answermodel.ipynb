{
 "cells": [
  {
   "cell_type": "markdown",
   "metadata": {
    "colab_type": "text",
    "id": "rPC3BOIYfGqm"
   },
   "source": [
    "# Exercise 1 - Feedforward NN\n",
    "\n",
    "In this notebook you will learn to implement a simple feedforward neural net in Keras. Your initial network will learn to recognise handwritten digits in no time! You will also learn to create a larger feedforward net and add regularisation layers to it, so that you can prevent overfitting as discussed in the lecture.\n",
    "\n",
    "This first notebook serves as a gentle introduction. At various points we will ask you to complete the given code. They will look like this:"
   ]
  },
  {
   "cell_type": "code",
   "execution_count": null,
   "metadata": {
    "colab": {},
    "colab_type": "code",
    "collapsed": true,
    "id": "y53BqDemfGqn"
   },
   "outputs": [],
   "source": [
    "def some_function(x):\n",
    "    '''Function that squares the input, then returns the result'''\n",
    "    ##Insert your code below (approx. 1 line)\n",
    "    x = None\n",
    "    ##End of your code\n",
    "    return x"
   ]
  },
  {
   "cell_type": "markdown",
   "metadata": {
    "colab_type": "text",
    "id": "6xYXgkssfGqq"
   },
   "source": [
    "Your task in these sections is to complete the code between the two lines beginning with \"##\". There is always a description of what the function should *do* at the top. The number of lines we expect you to write is also given as a hint. These are approximations depending on how you choose to  solve the problem.\n",
    "\n",
    "In this case you would change the line"
   ]
  },
  {
   "cell_type": "code",
   "execution_count": null,
   "metadata": {
    "colab": {},
    "colab_type": "code",
    "collapsed": true,
    "id": "r-Tnv2_kfGqq"
   },
   "outputs": [],
   "source": [
    "x = None"
   ]
  },
  {
   "cell_type": "markdown",
   "metadata": {
    "colab_type": "text",
    "id": "9u0trAyofGqu"
   },
   "source": [
    "into one of the options described below. Note that usually there is more than one correct solution. Where applicable, the **expected output** is given, so that you can check your implementation is correct."
   ]
  },
  {
   "cell_type": "code",
   "execution_count": null,
   "metadata": {
    "colab": {
     "base_uri": "https://localhost:8080/",
     "height": 244
    },
    "colab_type": "code",
    "collapsed": true,
    "id": "kysw0vrYfGqv",
    "outputId": "222ff979-356c-40d1-830d-84a17ba307be"
   },
   "outputs": [],
   "source": [
    "x = x**x\n",
    "\n",
    "x = np.square(x)\n",
    "\n",
    "x = np.power(x, 2)"
   ]
  },
  {
   "cell_type": "markdown",
   "metadata": {
    "colab_type": "text",
    "id": "YbUY-xiWfGqy"
   },
   "source": [
    "## 1 - Packages\n",
    "\n",
    "The first thing to do is import the required packages for this tutorial:\n",
    "\n",
    "- [NumPy](http://www.numpy.org) is a package optimised for (scientific) numerical computing with Python;\n",
    "- [matplotlib](https://matplotlib.org/) is a package to plot and visualise data using Python;\n",
    "- [Keras](https://www.keras.io) is the deep learning toolkit we will be using.\n",
    "\n",
    "**Note:** Please run all the cells containing code you encounter. To do so, select them, then press shift+enter, or click \"Run\" in the toolbar at the top of this page."
   ]
  },
  {
   "cell_type": "code",
   "execution_count": 1,
   "metadata": {
    "colab": {
     "base_uri": "https://localhost:8080/",
     "height": 89
    },
    "colab_type": "code",
    "id": "9ZXDYgOhfGqy",
    "outputId": "ad02543f-461f-4b99-deb2-79875c605a86"
   },
   "outputs": [
    {
     "name": "stdout",
     "output_type": "stream",
     "text": [
      "Download file... MNIST_data.zip ...\n",
      "File downloaded\n",
      "unzipped file: MNIST_data.zip\n",
      "\n"
     ]
    },
    {
     "name": "stderr",
     "output_type": "stream",
     "text": [
      "C:\\Users\\palka\\Anaconda3\\lib\\site-packages\\h5py\\__init__.py:34: FutureWarning: Conversion of the second argument of issubdtype from `float` to `np.floating` is deprecated. In future, it will be treated as `np.float64 == np.dtype(float).type`.\n",
      "  from ._conv import register_converters as _register_converters\n",
      "Using TensorFlow backend.\n"
     ]
    }
   ],
   "source": [
    "#download required datasets for this notebook (might take a bit, be patient!)\n",
    "from urllib.request import urlretrieve\n",
    "import os\n",
    "from zipfile import ZipFile\n",
    "\n",
    "def download(url, file):\n",
    "    if os.path.isfile(file):\n",
    "        os.remove(file)\n",
    "    if not os.path.isfile(file):\n",
    "        print(\"Download file... \" + file + \" ...\")\n",
    "        urlretrieve(url,file)\n",
    "        print(\"File downloaded\")\n",
    "        \n",
    "def unzip(file):\n",
    "    with ZipFile(file) as f:\n",
    "        f.extractall()\n",
    "    print('unzipped file: %s\\n' %file)\n",
    "    \n",
    "try:\n",
    "    download('http://www.paulvangent.com/files/DL_Course/MNIST_data.zip', 'MNIST_data.zip')\n",
    "except:\n",
    "    download('https://onedrive.live.com/download?cid=39383A5AFCD95065&resid=39383A5AFCD95065%21754579&authkey=AHLvzp-6a1009g4', 'MNIST_data.zip')\n",
    "unzip('MNIST_data.zip')\n",
    "\n",
    "import numpy as np #import numpy package\n",
    "import matplotlib.pyplot as plt #import plotting library\n",
    "\n",
    "#import required keras modules\n",
    "from keras.models import Sequential \n",
    "from keras.layers import Dense, Dropout\n",
    "\n"
   ]
  },
  {
   "cell_type": "markdown",
   "metadata": {
    "colab_type": "text",
    "id": "TKdBnDwdfGq1"
   },
   "source": [
    "## 2 - Dataset\n",
    "\n",
    "Now it's time to import the dataset we will be using. We've prepared a dataset for you. We will be using the MNIST dataset by [LeCun et al.](http://yann.lecun.com/exdb/mnist/)\n",
    "\n",
    "The dataset is about recognising handwritten digits (0-9) and contains 70,000 example images.\n",
    "\n",
    "***\n",
    "\n",
    "**Tip:** When implementing a network it's good practice to first test it on one of the many available 'standard datasets'. These datasets are standardised and the attainable performance on them is well known. This ensures that, when your network doesn't learn well (or at all), you know the problem is in the network implementation. \n",
    "\n",
    "If you start off with your own dataset and run into learning problems, it's difficult to ascertain whether your data doesn't contain enough variance for the network to learn anything, or whether the network implementation is incorrect.\n",
    "\n",
    "***"
   ]
  },
  {
   "cell_type": "markdown",
   "metadata": {
    "colab_type": "text",
    "id": "wX9RJZjkfGq2"
   },
   "source": [
    "### 2.1 - Splitting the data\n",
    "\n",
    "At this point you have a dataset and want to train your model. You could train the model on all the data you have, but then how would you know whether the model works well on data not in the training set? In other words, how do you know if the model 'memorised' the training set really well, or if the model has learned useful information about the patterns present in the dataset? Obviously we want the latter: we want the model to *generalise well*. A model that generalises well can handle previously unseen data as well, which translates into good *real-world performance*.\n",
    "\n",
    "Usually you split your dataset into three parts to estimate the model performance:\n",
    "- A large **training set**: this contains the bulk of the data\n",
    "- A **validation set**: you use this during training to evaluate model performance, tune hyperparameters, and spot problems like overfitting.\n",
    "- A **test set**: you use this set at the end of the process, when you've finished training your model, as a final check. \n",
    "    * **Can you explain why the validation set is necessary?**\n",
    "***\n",
    "Run the cells below to load the data"
   ]
  },
  {
   "cell_type": "code",
   "execution_count": 2,
   "metadata": {
    "colab": {},
    "colab_type": "code",
    "collapsed": true,
    "id": "pbnBkrh3fGq2"
   },
   "outputs": [],
   "source": [
    "def load_data():\n",
    "    '''Function to load the MNIST data into train/validation sets'''\n",
    "\n",
    "    X_train = np.load('MNIST_data/X_train.npy')\n",
    "    Y_train = np.load('MNIST_data/Y_train.npy')\n",
    "    X_val = np.load('MNIST_data/X_val.npy')\n",
    "    Y_val = np.load('MNIST_data/Y_val.npy')\n",
    "\n",
    "    #normalise data\n",
    "    X_train = X_train / 255.\n",
    "    X_val = X_val / 255.\n",
    "\n",
    "    #Convert labels to one-hot format\n",
    "    Y_train = np.eye(10)[Y_train.reshape(-1)]\n",
    "    Y_val = np.eye(10)[Y_val.reshape(-1)]\n",
    "\n",
    "    return X_train, Y_train, X_val, Y_val"
   ]
  },
  {
   "cell_type": "code",
   "execution_count": 3,
   "metadata": {
    "colab": {},
    "colab_type": "code",
    "collapsed": true,
    "id": "H6FtGXGrfGq4"
   },
   "outputs": [],
   "source": [
    "X_train, Y_train, X_val, Y_val = load_data()"
   ]
  },
  {
   "cell_type": "markdown",
   "metadata": {
    "colab_type": "text",
    "id": "FP7U8tRffGq6"
   },
   "source": [
    "This will download the dataset files to your computer, and read them into memory. It also normalises the data between 0 and 1 (**can you explain why?**), and applies one-hot encoding to the labels.\n",
    "\n",
    "One-hot encoding means that we convert the numerical label into a vector of length equal to the number of classes. The vector is filled with zeros except at the location representing the label in question. Run the cell below to see for yourself what this looks like.\n",
    "\n",
    "We have already converted the images into vectors ('flattened' them). **If you think back to the lecture of this morning, can you explain why this is done?** *Hint: think about the shape of the input layer of the network.*"
   ]
  },
  {
   "cell_type": "code",
   "execution_count": 4,
   "metadata": {
    "colab": {
     "base_uri": "https://localhost:8080/",
     "height": 212
    },
    "colab_type": "code",
    "id": "GAI43Z4hfGq7",
    "outputId": "27182346-f46f-42d6-fd90-ce690d340bc1"
   },
   "outputs": [
    {
     "name": "stdout",
     "output_type": "stream",
     "text": [
      "corresponding label first image:[0. 1. 0. 0. 0. 0. 0. 0. 0. 0.]\n",
      "corresponding label middle image:[0. 0. 0. 0. 0. 0. 0. 0. 1. 0.]\n",
      "corresponding label last image:[0. 0. 0. 0. 0. 0. 0. 1. 0. 0.]\n"
     ]
    },
    {
     "data": {
      "image/png": "[encoded data removed]",
      "text/plain": [
       "<matplotlib.figure.Figure at 0x2c475a603c8>"
      ]
     },
     "metadata": {},
     "output_type": "display_data"
    }
   ],
   "source": [
    "plt.subplot(131)\n",
    "plt.imshow(np.reshape(X_train[500], (28, 28)), cmap=plt.get_cmap('gray')) #plot the 501st train set entry\n",
    "print('corresponding label first image:' + str(Y_train[500]))\n",
    "\n",
    "plt.subplot(132)\n",
    "plt.imshow(np.reshape(X_train[-1], (28, 28)), cmap=plt.get_cmap('gray')) #plot the last train set entry\n",
    "print('corresponding label middle image:' + str(Y_train[-1]))\n",
    "\n",
    "plt.subplot(133)\n",
    "plt.imshow(np.reshape(X_val[0], (28, 28)), cmap=plt.get_cmap('gray')) #plot the first validation set entry\n",
    "print('corresponding label last image:' + str(Y_val[0]))\n",
    "\n",
    "plt.tight_layout()\n",
    "\n",
    "plt.show()"
   ]
  },
  {
   "cell_type": "markdown",
   "metadata": {
    "colab_type": "text",
    "id": "gHXke0ZgfGq-"
   },
   "source": [
    "We need this encoding because of the way the network makes decisions on multi-class problems (more than two separate classes). The last layer in the network will have a number of neurons equal to the number of classes (and the size of the one-hot vector!). You can visualise it in the MNIST case as such:\n",
    "\n",
    "![logistic regression](http://www.paulvangent.com/files/DL_Course/day1_images/outputlayer.jpg)\n",
    "\n",
    "In the case of an input image with a '1' on it, we want all the neurons to output an activation value close to zero, *except the second one, which represents the digit '1'*. **Can you explain how the one-hot vector relates to the output?** \n",
    "\n",
    "When classes are mutually exclusive (there is only one correct answer), the output layer often uses a 'softmax' function. The softmax function scales the output vector so that its total sum equals one. Now each neuron in the output layer can be seen as representing the probability of being the correct output. See the image below for a visualisation:\n",
    "\n",
    "![softmax](http://www.paulvangent.com/files/DL_Course/day1_images/softmax_one-hot.png)\n",
    "\n",
    "\n",
    "***"
   ]
  },
  {
   "cell_type": "markdown",
   "metadata": {
    "colab_type": "text",
    "id": "VdSeueJCfGq_"
   },
   "source": [
    "## 3 - Building Blocks of Neural Nets\n",
    "\n",
    "As discussed in the lectuers this morning, the basis of the neural net is a single neuron. You can think of a single neuron as a being a special flavor of logistic regression. It takes the available inputs and weighs them, sums them together, adds a bias 'b' term, and computes an activation function (here we used the sigmoid function) to determine the output value.\n",
    "\n",
    "![logistic regression](http://www.paulvangent.com/files/DL_Course/day1_images/logreg1.jpg)\n",
    "\n",
    "Usually a bias term 'b' is added, which quite literally 'biases' the neuron towards or away from activation. When updating the weights during training, the bias term is individually updated as well.\n",
    "\n",
    "'Activation functions' compute the output value of the neuron. An important feature of them is that they add non-linearity to the linear weighting and summation steps. \n",
    "- **Can you explain why this is important?**\n",
    "- **What are the effects of this non-linearity on the type of functions the neuron can fit to the data?**\n",
    "\n",
    "We have provided plots of several popular activation functions here:\n",
    "\n",
    "![Activation Fucntions](http://www.paulvangent.com/files/DL_Course/day1_images/activationfunctions.jpg)\n",
    "\n",
    "***"
   ]
  },
  {
   "cell_type": "markdown",
   "metadata": {
    "colab_type": "text",
    "id": "dEwIU8vmfGrA"
   },
   "source": [
    "## 4 - Defining a Feed Forward Net in Keras\n",
    "\n",
    "In this function we define a simple two-layer neural net, consisting only of an input layer and an output layer. It will look a little like this:\n",
    "\n",
    "![Simple neural net](http://www.paulvangent.com/files/DL_Course/day1_images/NN1.jpg)\n",
    "\n",
    "Some things to note:\n",
    "- The input layer is the same size as the number of pixels in the MNIST images (28x28 = 784) \n",
    "- The output layer is of size equal to the number of classes in our dataset. \n",
    "    * *The numbers range from 0-9, so the number of classes is 10. This means we have 10 output neurons.*\n",
    "    \n",
    "In the output layer, each of the 10 neurons represents one class. When classifying, the neuron with the highest activation represents the network's decision. For example if in the output layer the first neuron shows the highest activation, the predicted digit is 0.\n",
    "\n",
    "Your task is to add an **input** and an **output** layer to the model below. \n",
    "\n",
    "The **input** layer expects three arguments:\n",
    "- number of input values (in this function, that is **input_dim[0]**)\n",
    "- shape of input (input_dim)\n",
    "- activation function (use 'relu')\n",
    "\n",
    "The **output** layer expects two arguments:\n",
    "- the size of the output (the number of classes)\n",
    "- the activation function (use a softmax function)\n",
    "\n",
    "[Hint](https://keras.io/layers/core/#dense)"
   ]
  },
  {
   "cell_type": "code",
   "execution_count": 5,
   "metadata": {
    "colab": {},
    "colab_type": "code",
    "collapsed": true,
    "id": "J2PEsvm-fGrB"
   },
   "outputs": [],
   "source": [
    "def baseline_model(input_dim=(784,), num_classes=10):\n",
    "    '''Function to generate a baseline neural net\n",
    "    \n",
    "    Keyword arguments:\n",
    "    - input_shape: expected dimensions of input data (default = (784,))\n",
    "    - num_classes: total number of categories in dataset (default = 10)\n",
    "    '''\n",
    "    \n",
    "    model = Sequential()\n",
    "    ##Add your code here (Approx. 2 lines)\n",
    "    model.add(Dense(input_dim[0], input_shape=input_dim, activation='relu'))\n",
    "    model.add(Dense(num_classes, activation='softmax'))\n",
    "    ##End of your code\n",
    "    \n",
    "    model.compile(loss='categorical_crossentropy', optimizer='adam', metrics=['accuracy'])\n",
    "    \n",
    "    return model"
   ]
  },
  {
   "cell_type": "code",
   "execution_count": 6,
   "metadata": {
    "colab": {
     "base_uri": "https://localhost:8080/",
     "height": 91
    },
    "colab_type": "code",
    "collapsed": true,
    "id": "PXfZWKKyfGrE",
    "outputId": "2e01d8fc-bc6c-4eec-8965-fe7471644b32"
   },
   "outputs": [],
   "source": [
    "#call the function to build the model\n",
    "model = baseline_model(input_dim=(784,), num_classes=10)"
   ]
  },
  {
   "cell_type": "markdown",
   "metadata": {
    "colab_type": "text",
    "id": "cWPvri4rfGrG"
   },
   "source": [
    "# 5 - Training Your Baseline Model\n",
    "\n",
    "So far we:\n",
    "- Loaded a dataset consisting of 65,000 digits into memory, split into 55k training examples and 10k validation examples;\n",
    "    * There's also a test set of 5K examples which we will not use now;\n",
    "    * **Can you explain the importance of a test set?**\n",
    "- Normalised the image data, and converted the label data to one-hot encoding;\n",
    "- Built a baseline neural net consisting of an input layer and an output layer.\n",
    "\n",
    "Now it's time to put our creation to work! To do so, Keras model instances have the 'fit()' function. The fit() function trains the model for a given number of epochs (=full passes through entire training set). You can specify a validation set to evaluate performance after each epoch.\n",
    "\n",
    "**Exercise:** Your task is to fit the model to the data by calling **model.fit()** with the appropriate arguments. Complete the function call below. It will expect:\n",
    "- training samples and training labels\n",
    "- validation samples and labels\n",
    "- number of epochs (use 10 epochs for now)\n",
    "- batch size (use 256 for now)\n",
    "***\n",
    "Hint: [look at the Keras \"model\" API entry](https://keras.io/models/sequential/)  \n",
    "Hint2: [look a little closer](https://keras.io/models/sequential/#fit)"
   ]
  },
  {
   "cell_type": "code",
   "execution_count": 7,
   "metadata": {
    "colab": {
     "base_uri": "https://localhost:8080/",
     "height": 487
    },
    "colab_type": "code",
    "id": "C3We-o66fGrG",
    "outputId": "7a7a5ed0-aa61-430b-aa19-493f0d9ffb8d"
   },
   "outputs": [
    {
     "name": "stdout",
     "output_type": "stream",
     "text": [
      "Train on 55000 samples, validate on 10000 samples\n",
      "Epoch 1/10\n",
      "55000/55000 [==============================] - 5s 86us/step - loss: 1.7193 - acc: 0.6095 - val_loss: 1.0087 - val_acc: 0.7890\n",
      "Epoch 2/10\n",
      "55000/55000 [==============================] - 1s 16us/step - loss: 0.7474 - acc: 0.8309 - val_loss: 0.5599 - val_acc: 0.8672\n",
      "Epoch 3/10\n",
      "55000/55000 [==============================] - 1s 16us/step - loss: 0.4988 - acc: 0.8737 - val_loss: 0.4265 - val_acc: 0.8909\n",
      "Epoch 4/10\n",
      "55000/55000 [==============================] - 1s 17us/step - loss: 0.4096 - acc: 0.8906 - val_loss: 0.3702 - val_acc: 0.9002\n",
      "Epoch 5/10\n",
      "55000/55000 [==============================] - 1s 17us/step - loss: 0.3657 - acc: 0.8988 - val_loss: 0.3374 - val_acc: 0.9059\n",
      "Epoch 6/10\n",
      "55000/55000 [==============================] - 1s 17us/step - loss: 0.3387 - acc: 0.9048 - val_loss: 0.3158 - val_acc: 0.9111\n",
      "Epoch 7/10\n",
      "55000/55000 [==============================] - 1s 16us/step - loss: 0.3204 - acc: 0.9091 - val_loss: 0.3002 - val_acc: 0.9147\n",
      "Epoch 8/10\n",
      "55000/55000 [==============================] - 1s 16us/step - loss: 0.3066 - acc: 0.9124 - val_loss: 0.2914 - val_acc: 0.9153\n",
      "Epoch 9/10\n",
      "55000/55000 [==============================] - 1s 17us/step - loss: 0.2955 - acc: 0.9157 - val_loss: 0.2830 - val_acc: 0.9194\n",
      "Epoch 10/10\n",
      "55000/55000 [==============================] - 1s 16us/step - loss: 0.2854 - acc: 0.9180 - val_loss: 0.2740 - val_acc: 0.9206\n"
     ]
    },
    {
     "data": {
      "text/plain": [
       "<keras.callbacks.History at 0x2c475a39ef0>"
      ]
     },
     "execution_count": 7,
     "metadata": {},
     "output_type": "execute_result"
    }
   ],
   "source": [
    "##Your code here (approx. 1 line)\n",
    "model.fit(X_train, Y_train,\n",
    "          validation_data=(X_val, Y_val),\n",
    "          epochs=10,\n",
    "          batch_size=256)\n",
    "##End of your code"
   ]
  },
  {
   "cell_type": "markdown",
   "metadata": {
    "colab_type": "text",
    "id": "al7dcZ_HfGrI"
   },
   "source": [
    "**Expected Output:**\n",
    "\n",
    "Train on 55000 samples, validate on 10000 samples  \n",
    "Epoch 1/10  \n",
    "55000/55000 [==============================] - 8s 144us/step - loss: 1.7160 - acc: 0.5975 - val_loss: 1.0110 - val_acc: 0.8023  \n",
    "Epoch 2/10  \n",
    "55000/55000 [==============================] - 7s 128us/step - loss: 0.7537 - acc: 0.8295 - val_loss: 0.5631 - val_acc: 0.8673  \n",
    "Epoch 3/10  \n",
    "55000/55000 [==============================] - 7s 130us/step - loss: 0.5015 - acc: 0.8735 - val_loss: 0.4301 - val_acc: 0.8901  \n",
    ".....   \n",
    "Epoch 10/10  \n",
    "55000/55000 [==============================] - 7s 136us/step - loss: 0.2851 - acc: 0.9179 - val_loss: 0.2727 - val_acc: 0.9202 \n",
    "\n",
    "***\n",
    "\n",
    "**Note** that the actual numbers will vary for your training case, depending on cpu speed, how the network initialises, and the random shuffle of the training data.  \n",
    "\n",
    "***\n",
    "\n",
    "You've now trained a simple network! How well did it perform?\n",
    "\n",
    "In the next section we'll expand the architecture and introduce a hidden layer into the network."
   ]
  },
  {
   "cell_type": "markdown",
   "metadata": {
    "colab_type": "text",
    "id": "AoQz23m1fGrJ"
   },
   "source": [
    "# 6 - Adding a Hidden Layer\n",
    "\n",
    "It's time to add a hidden layer to the network. \n",
    "\n",
    "**Exercise:** Below is the model definition function you wrote earlier. Your task is to add a hidden layer with 1024 units to the function defined below. Use a relu activation function. Put a dropout regularisation layer between the hidden layers and the output layer. Use a dropout rate of 20%.\n",
    "\n",
    "***\n",
    "Hint: [Normal layer](https://keras.io/layers/core/#dense)  \n",
    "Hint2: [Dropout layer](https://keras.io/layers/core/#dropout)"
   ]
  },
  {
   "cell_type": "code",
   "execution_count": 15,
   "metadata": {
    "colab": {},
    "colab_type": "code",
    "collapsed": true,
    "id": "lj0wHt9yfGrJ"
   },
   "outputs": [],
   "source": [
    "def hiddenlayer_model(input_dim=(784,), num_classes=10):\n",
    "    '''Function to generate a baseline neural net\n",
    "    \n",
    "    Keyword arguments:\n",
    "    - input_shape: expected dimensions of input data (default = (784,))\n",
    "    - num_classes: total number of categories in dataset (default = 10)\n",
    "    '''\n",
    "    \n",
    "    model = Sequential()\n",
    "    model.add(Dense(input_dim[0], input_shape=input_dim, activation='relu'))\n",
    "    ##Add your code here (Approx 2 lines)\n",
    "    model.add(Dense(1024, activation='relu'))\n",
    "    model.add(Dropout(0.2))\n",
    "    ##End of your code\n",
    "    model.add(Dense(num_classes, activation='softmax'))\n",
    "    \n",
    "    model.compile(loss='categorical_crossentropy', optimizer='adam', metrics=['accuracy'])\n",
    "    \n",
    "    return model"
   ]
  },
  {
   "cell_type": "code",
   "execution_count": 16,
   "metadata": {
    "colab": {
     "base_uri": "https://localhost:8080/",
     "height": 379
    },
    "colab_type": "code",
    "id": "mTZZwo_WfGrL",
    "outputId": "bfee833c-0414-4a52-be9f-69588ec22f5f"
   },
   "outputs": [
    {
     "name": "stdout",
     "output_type": "stream",
     "text": [
      "_________________________________________________________________\n",
      "Layer (type)                 Output Shape              Param #   \n",
      "=================================================================\n",
      "dense_12 (Dense)             (None, 784)               615440    \n",
      "_________________________________________________________________\n",
      "dense_13 (Dense)             (None, 1024)              803840    \n",
      "_________________________________________________________________\n",
      "dense_14 (Dense)             (None, 10)                10250     \n",
      "=================================================================\n",
      "Total params: 1,429,530\n",
      "Trainable params: 1,429,530\n",
      "Non-trainable params: 0\n",
      "_________________________________________________________________\n",
      "None\n"
     ]
    }
   ],
   "source": [
    "model = hiddenlayer_model()\n",
    "\n",
    "print(model.summary())"
   ]
  },
  {
   "cell_type": "markdown",
   "metadata": {
    "colab_type": "text",
    "id": "4-VcYgR9fGrN"
   },
   "source": [
    "In the output you should see four layers. Two dense, a Dropout, and a Dense at the end.\n",
    "\n",
    "Shapes should be, respectively:  \n",
    "(None, 784)  \n",
    "(None, 1024)  \n",
    "(None, 1024)  \n",
    "(None, 10)  \n",
    "\n",
    "**Can you explain why adding a hidden layer improves our model's capabilities? What is it's effect?**"
   ]
  },
  {
   "cell_type": "markdown",
   "metadata": {
    "colab_type": "text",
    "id": "idDKdwZSfGrO"
   },
   "source": [
    "***\n",
    "\n",
    "The next step is to fit the model again. The process is the same as you did with the neural net before. \n",
    "\n",
    "**Exercise:** Your task is to complete the fit function again. Remember to pass the **model.fit()** function:\n",
    "- training samples and labels\n",
    "- validation samples and labels\n",
    "- number of epochs (use 10)\n",
    "- batch size (use 256)"
   ]
  },
  {
   "cell_type": "code",
   "execution_count": 13,
   "metadata": {
    "colab": {
     "base_uri": "https://localhost:8080/",
     "height": 413
    },
    "colab_type": "code",
    "id": "uQ6atulXfGrO",
    "outputId": "17e93e25-9519-43c6-9fcf-a2a3db1d9e1a"
   },
   "outputs": [
    {
     "name": "stdout",
     "output_type": "stream",
     "text": [
      "Train on 55000 samples, validate on 10000 samples\n",
      "Epoch 1/10\n",
      "55000/55000 [==============================] - 2s 30us/step - loss: 0.9469 - acc: 0.7289 - val_loss: 0.4078 - val_acc: 0.8842\n",
      "Epoch 2/10\n",
      "55000/55000 [==============================] - 1s 23us/step - loss: 0.3690 - acc: 0.8920 - val_loss: 0.3289 - val_acc: 0.9043\n",
      "Epoch 3/10\n",
      "55000/55000 [==============================] - 1s 23us/step - loss: 0.3062 - acc: 0.9104 - val_loss: 0.2664 - val_acc: 0.9204\n",
      "Epoch 4/10\n",
      "55000/55000 [==============================] - 1s 23us/step - loss: 0.2615 - acc: 0.9227 - val_loss: 0.2313 - val_acc: 0.9315\n",
      "Epoch 5/10\n",
      "55000/55000 [==============================] - 1s 23us/step - loss: 0.2266 - acc: 0.9330 - val_loss: 0.2154 - val_acc: 0.9358\n",
      "Epoch 6/10\n",
      "55000/55000 [==============================] - 1s 23us/step - loss: 0.1968 - acc: 0.9412 - val_loss: 0.1766 - val_acc: 0.9467\n",
      "Epoch 7/10\n",
      "55000/55000 [==============================] - 1s 23us/step - loss: 0.1747 - acc: 0.9485 - val_loss: 0.1711 - val_acc: 0.9486\n",
      "Epoch 8/10\n",
      "55000/55000 [==============================] - 1s 23us/step - loss: 0.1506 - acc: 0.9558 - val_loss: 0.1450 - val_acc: 0.9566\n",
      "Epoch 9/10\n",
      "55000/55000 [==============================] - 1s 23us/step - loss: 0.1352 - acc: 0.9595 - val_loss: 0.1334 - val_acc: 0.9610\n",
      "Epoch 10/10\n",
      "55000/55000 [==============================] - 1s 23us/step - loss: 0.1202 - acc: 0.9647 - val_loss: 0.1208 - val_acc: 0.9618\n"
     ]
    },
    {
     "data": {
      "text/plain": [
       "<keras.callbacks.History at 0x2c4007b6e80>"
      ]
     },
     "execution_count": 13,
     "metadata": {},
     "output_type": "execute_result"
    }
   ],
   "source": [
    "##Your code here (approx. 1 line)\n",
    "model.fit(X_train, Y_train,\n",
    "          validation_data=(X_val, Y_val),\n",
    "          epochs=10,\n",
    "          batch_size=256)\n",
    "##End of your code"
   ]
  },
  {
   "cell_type": "markdown",
   "metadata": {
    "colab_type": "text",
    "id": "iz6R1vtBfGrS"
   },
   "source": [
    "***\n",
    "Since you added the hidden layer, did performance increase? **Why do you think this is (not) the case?**\n",
    "\n",
    "**Can you explain the effects of the dropout layer?**\n",
    "\n",
    "**Exercise:** Try removing the dropout layer from the model function. You can either put a '#' in front of the line or delete it. Don't forget to run the cell afterwards (shift enter). After you've done this, complete and the cell below and compare to the training run above."
   ]
  },
  {
   "cell_type": "code",
   "execution_count": 17,
   "metadata": {
    "colab": {
     "base_uri": "https://localhost:8080/",
     "height": 413
    },
    "colab_type": "code",
    "id": "JBXdSB20fGrT",
    "outputId": "3ee1a487-2d42-40a1-e9da-ccfd2a9e131d"
   },
   "outputs": [
    {
     "name": "stdout",
     "output_type": "stream",
     "text": [
      "Train on 55000 samples, validate on 10000 samples\n",
      "Epoch 1/10\n",
      "55000/55000 [==============================] - 2s 31us/step - loss: 0.9154 - acc: 0.7310 - val_loss: 0.3992 - val_acc: 0.8801\n",
      "Epoch 2/10\n",
      "55000/55000 [==============================] - 1s 22us/step - loss: 0.3615 - acc: 0.8942 - val_loss: 0.3083 - val_acc: 0.9101\n",
      "Epoch 3/10\n",
      "55000/55000 [==============================] - 1s 23us/step - loss: 0.2985 - acc: 0.9138 - val_loss: 0.2705 - val_acc: 0.9200\n",
      "Epoch 4/10\n",
      "55000/55000 [==============================] - 1s 22us/step - loss: 0.2594 - acc: 0.9251 - val_loss: 0.2394 - val_acc: 0.9283\n",
      "Epoch 5/10\n",
      "55000/55000 [==============================] - 1s 22us/step - loss: 0.2226 - acc: 0.9345 - val_loss: 0.2088 - val_acc: 0.9393\n",
      "Epoch 6/10\n",
      "55000/55000 [==============================] - 1s 22us/step - loss: 0.1930 - acc: 0.9435 - val_loss: 0.1789 - val_acc: 0.9465\n",
      "Epoch 7/10\n",
      "55000/55000 [==============================] - 1s 23us/step - loss: 0.1672 - acc: 0.9509 - val_loss: 0.1647 - val_acc: 0.9505\n",
      "Epoch 8/10\n",
      "55000/55000 [==============================] - 1s 23us/step - loss: 0.1478 - acc: 0.9558 - val_loss: 0.1465 - val_acc: 0.9581\n",
      "Epoch 9/10\n",
      "55000/55000 [==============================] - 1s 22us/step - loss: 0.1297 - acc: 0.9618 - val_loss: 0.1405 - val_acc: 0.9558\n",
      "Epoch 10/10\n",
      "55000/55000 [==============================] - 1s 22us/step - loss: 0.1156 - acc: 0.9662 - val_loss: 0.1266 - val_acc: 0.9626\n"
     ]
    },
    {
     "data": {
      "text/plain": [
       "<keras.callbacks.History at 0x2c5eb0cd6d8>"
      ]
     },
     "execution_count": 17,
     "metadata": {},
     "output_type": "execute_result"
    }
   ],
   "source": [
    "model = hiddenlayer_model()\n",
    "##Your code here (approx. 1 line)\n",
    "model.fit(X_train, Y_train,\n",
    "          validation_data=(X_val, Y_val),\n",
    "          epochs=10,\n",
    "          batch_size=256)\n",
    "##End of your code"
   ]
  },
  {
   "cell_type": "markdown",
   "metadata": {
    "colab_type": "text",
    "id": "Km1-70vmfGrX"
   },
   "source": [
    "Feel free to play with adding more layers to the model, or with training it for more epochs at this point. When you're finished it's time to look at how the model performs on a different dataset."
   ]
  },
  {
   "cell_type": "markdown",
   "metadata": {
    "colab_type": "text",
    "id": "hxT5UeqwfGrY"
   },
   "source": [
    "## 7 - Moving On To Object Recognition\n",
    "\n",
    "We will now apply this model to the [CIFAR10 dataset](https://www.cs.toronto.edu/~kriz/cifar.html)\n",
    "\n",
    "This dataset contains 60,000 images divided into 10 different classes (hence CIFAR**10**), from inanimate objects (cars, airplanes) to animals.\n",
    "\n",
    "![cifar10](http://www.paulvangent.com/files/DL_Course/day1_images/cifar_10.png)\n",
    "\n",
    "In this exercise we will show you how to load the data and flatten each image into a vector, but you have to do the normalisation and one-hot encoding yourself."
   ]
  },
  {
   "cell_type": "code",
   "execution_count": 18,
   "metadata": {
    "colab": {
     "base_uri": "https://localhost:8080/",
     "height": 53
    },
    "colab_type": "code",
    "collapsed": true,
    "id": "GODzG-X3fGra",
    "outputId": "bf013bb9-df5d-4a2d-faf6-8235cde1cea5"
   },
   "outputs": [],
   "source": [
    "from keras.datasets import cifar10\n",
    "\n",
    "(X_train, Y_train), (X_val, Y_val) = cifar10.load_data()"
   ]
  },
  {
   "cell_type": "markdown",
   "metadata": {
    "colab_type": "text",
    "id": "QfGeQ-_1fGrd"
   },
   "source": [
    "Now we flatten each image so that the resulting array has shape (number_of_images, pixels_per_image). We have colour images of 32x32 pixels, so the shape of each image array is 32x32x3 (3 colour channels for **R**ed **G**reen & **B**lue). To get the size of the flattened image, we thus use 32x32x3 (=3,072).\n",
    "\n",
    "To flatten the image, we use [np.reshape](https://docs.scipy.org/doc/numpy/reference/generated/numpy.reshape.html). Note we can get the shape from the image array with **.shape**. This returns an array with an entry for each dimension on the image. It's in the format *[Number-of-samples, X-pixels, Y-pixels, number-of-colour-channels]*."
   ]
  },
  {
   "cell_type": "code",
   "execution_count": 19,
   "metadata": {
    "colab": {},
    "colab_type": "code",
    "collapsed": true,
    "id": "J-ZU1gJpfGre"
   },
   "outputs": [],
   "source": [
    "#We flatten each image in validation and train sets\n",
    "X_train_flat = np.reshape(X_train, (X_train.shape[0], X_train.shape[1] * X_train.shape[2] * X_train.shape[3]))\n",
    "X_val_flat = np.reshape(X_val, (X_val.shape[0], X_val.shape[1] * X_val.shape[2] * X_val.shape[3]))"
   ]
  },
  {
   "cell_type": "markdown",
   "metadata": {
    "colab_type": "text",
    "id": "JgS5reXYfGrg"
   },
   "source": [
    "**Exercise:** Your next exercise is to complete the code below. You need to take two steps:\n",
    "- normalise the images between 0 and 1. Note that the images consist of 8-bit integers, meaning their range is between 0-255.\n",
    "- apply one-hot encoding to the labels. How many classes do we have?\n",
    "\n",
    "[One-hot encoding hint](https://docs.scipy.org/doc/numpy/reference/generated/numpy.eye.html). \n",
    "You can also look at how we did it earlier in this notebook."
   ]
  },
  {
   "cell_type": "code",
   "execution_count": 20,
   "metadata": {
    "colab": {
     "base_uri": "https://localhost:8080/",
     "height": 89
    },
    "colab_type": "code",
    "id": "5mMijZRDfGrg",
    "outputId": "086de18a-8dbe-4df8-dca3-18e5dae2822b"
   },
   "outputs": [
    {
     "name": "stdout",
     "output_type": "stream",
     "text": [
      "shape of first training example is: (3072,)\n",
      "shape of last validation example is: (3072,)\n",
      "shape of first one-hot vector in training is: (10,)\n",
      "shape of last one-hot vector in validation is: (10,)\n"
     ]
    }
   ],
   "source": [
    "#Normalise each image\n",
    "##Add your code here (approx. 2 lines)\n",
    "X_train_flat = X_train_flat / 255.\n",
    "X_val_flat = X_val_flat / 255.\n",
    "##End of your code\n",
    "\n",
    "\n",
    "#Convert labels to one-hot\n",
    "##Add your code here (approx. 2 lines)\n",
    "Y_train_hot = np.eye(10)[Y_train.reshape(-1)]\n",
    "Y_val_hot = np.eye(10)[Y_val.reshape(-1)]\n",
    "##End of your code\n",
    "\n",
    "print('shape of first training example is: ' + str(X_train_flat[0].shape))\n",
    "print('shape of last validation example is: ' + str(X_val_flat[-1].shape))\n",
    "print('shape of first one-hot vector in training is: ' + str(Y_train_hot[0].shape))\n",
    "print('shape of last one-hot vector in validation is: ' + str(Y_val_hot[-1].shape))"
   ]
  },
  {
   "cell_type": "markdown",
   "metadata": {
    "colab_type": "text",
    "id": "4jjhLx0yfGrj"
   },
   "source": [
    "**Expected output:**\n",
    "\n",
    "shape of first training example is: (3072,)  \n",
    "shape of last validation example is: (3072,)  \n",
    "shape of first one-hot vector in training is: (10,)  \n",
    "shape of last one-hot vector in validation is: (10,)  \n",
    "\n",
    "***\n",
    "\n",
    "Now we call the hiddenlayer_model you wrote earlier to initialise a fresh model. We use input_size of 3072 (32x32x3), and 10 classes.\n",
    "\n",
    "**Exercise:** Initialise the model by completing and running the code below."
   ]
  },
  {
   "cell_type": "code",
   "execution_count": 21,
   "metadata": {
    "colab": {},
    "colab_type": "code",
    "collapsed": true,
    "id": "Avs_BQTUfGrj"
   },
   "outputs": [],
   "source": [
    "##Add your code here (approx. 1 line)\n",
    "model = hiddenlayer_model(input_dim=(3072,), num_classes=10)\n",
    "##End of your code"
   ]
  },
  {
   "cell_type": "markdown",
   "metadata": {
    "colab_type": "text",
    "collapsed": true,
    "id": "vswoTHTKfGrl"
   },
   "source": [
    "***\n",
    "\n",
    "Now fit the model. Fill in the blanks below, remember to feed the model.fit() function:\n",
    "- X and Y from the training data\n",
    "- X and Y for the validation data\n",
    "- set the number of epochs to 10\n",
    "- Batch size of 256 is advised.\n",
    "- In stead of just calling model.fit, we will add \"history = \" before the fit function. You will see why afterwards.\n",
    "\n",
    "**hint:** If you're stuck, you can refer up to the earlier time we called model.fit()\n",
    "\n",
    "Once fitting starts, go get a cup of coffee! This will take ~10-30 minutes depending on your hardware."
   ]
  },
  {
   "cell_type": "code",
   "execution_count": 22,
   "metadata": {
    "colab": {
     "base_uri": "https://localhost:8080/",
     "height": 469
    },
    "colab_type": "code",
    "id": "BE8YrY3kfGrm",
    "outputId": "6907191b-cd0a-4c28-f59c-904a64e3788d"
   },
   "outputs": [
    {
     "name": "stdout",
     "output_type": "stream",
     "text": [
      "Train on 50000 samples, validate on 10000 samples\n",
      "Epoch 1/10\n",
      "50000/50000 [==============================] - 5s 110us/step - loss: 2.2921 - acc: 0.2839 - val_loss: 1.7581 - val_acc: 0.3692\n",
      "Epoch 2/10\n",
      "50000/50000 [==============================] - 5s 94us/step - loss: 1.7011 - acc: 0.3915 - val_loss: 1.6596 - val_acc: 0.4005\n",
      "Epoch 3/10\n",
      "50000/50000 [==============================] - 5s 93us/step - loss: 1.6052 - acc: 0.4279 - val_loss: 1.6043 - val_acc: 0.4299\n",
      "Epoch 4/10\n",
      "50000/50000 [==============================] - 5s 92us/step - loss: 1.5405 - acc: 0.4532 - val_loss: 1.5510 - val_acc: 0.4476\n",
      "Epoch 5/10\n",
      "50000/50000 [==============================] - 5s 92us/step - loss: 1.4935 - acc: 0.4691 - val_loss: 1.4837 - val_acc: 0.4736\n",
      "Epoch 6/10\n",
      "50000/50000 [==============================] - 5s 92us/step - loss: 1.4500 - acc: 0.4855 - val_loss: 1.4959 - val_acc: 0.4655\n",
      "Epoch 7/10\n",
      "50000/50000 [==============================] - 5s 96us/step - loss: 1.4075 - acc: 0.5003 - val_loss: 1.4291 - val_acc: 0.5005\n",
      "Epoch 8/10\n",
      "50000/50000 [==============================] - 5s 95us/step - loss: 1.3742 - acc: 0.5092 - val_loss: 1.5323 - val_acc: 0.4594\n",
      "Epoch 9/10\n",
      "50000/50000 [==============================] - 5s 93us/step - loss: 1.3497 - acc: 0.5224 - val_loss: 1.4161 - val_acc: 0.4916\n",
      "Epoch 10/10\n",
      "50000/50000 [==============================] - 5s 92us/step - loss: 1.3251 - acc: 0.5263 - val_loss: 1.4051 - val_acc: 0.4963\n"
     ]
    }
   ],
   "source": [
    "##Add your code here (approx. 1 line)\n",
    "history = model.fit(X_train_flat, Y_train_hot,\n",
    "                      validation_data=(X_val_flat, Y_val_hot),\n",
    "                      epochs=10,\n",
    "                      batch_size=256)\n",
    "##End of your code"
   ]
  },
  {
   "cell_type": "markdown",
   "metadata": {
    "colab_type": "text",
    "id": "f2e04ReDfGrn"
   },
   "source": [
    "****\n",
    "**Expected Output:**\n",
    "\n",
    "Train on 50000 samples, validate on 10000 samples  \n",
    "Epoch 1/10  \n",
    "50000/50000 [==============================] - 5s 109us/step - loss: 2.4346 - acc: 0.2858 - val_loss: 1.7262 - val_acc: 0.3769  \n",
    "Epoch 2/10  \n",
    "50000/50000 [==============================] - 5s 95us/step - loss: 1.7014 - acc: 0.3898 - val_loss: 1.6754 - val_acc: 0.4025  \n",
    "[...]    \n",
    "Epoch 10/10  \n",
    "50000/50000 [==============================] - 5s 93us/step - loss: 1.3486 - acc: 0.5186 - val_loss: 1.4063 - val_acc: 0.5060  \n",
    "***"
   ]
  },
  {
   "cell_type": "markdown",
   "metadata": {
    "colab_type": "text",
    "id": "trVu-uWCfGrn"
   },
   "source": [
    "Remember how we added \"history =\" before model.fit? We did this because, by default, the Keras fit function returns a history object containing information about the training phase of the model. This will help us gauge performance, spot possible overfitting, as well as help with model selection.\n",
    "\n",
    "To visualise, run the cell below"
   ]
  },
  {
   "cell_type": "code",
   "execution_count": 23,
   "metadata": {
    "colab": {
     "base_uri": "https://localhost:8080/",
     "height": 441
    },
    "colab_type": "code",
    "id": "SrDHNFHffGro",
    "outputId": "b3f5bbe2-5deb-4783-9252-9659cb899cf7"
   },
   "outputs": [
    {
     "data": {
      "image/png": "[encoded data removed]",
      "text/plain": [
       "<matplotlib.figure.Figure at 0x2c5f653d278>"
      ]
     },
     "metadata": {},
     "output_type": "display_data"
    }
   ],
   "source": [
    "plt.figure(figsize=(9,6))\n",
    "\n",
    "plt.subplot(211)\n",
    "plt.plot(history.history['loss'], label='training loss')\n",
    "plt.plot(history.history['val_loss'], label='validation loss')\n",
    "plt.legend()\n",
    "plt.title('training and validation loss')\n",
    "\n",
    "plt.subplot(212)\n",
    "plt.plot(history.history['acc'], label='training accuracy')\n",
    "plt.plot(history.history['val_acc'], label='validation accuracy')\n",
    "plt.legend()\n",
    "plt.title('training and validation accuracy')\n",
    "\n",
    "plt.tight_layout()\n",
    "\n",
    "plt.show()"
   ]
  },
  {
   "cell_type": "markdown",
   "metadata": {
    "colab_type": "text",
    "id": "YgzfRKvSfGrp"
   },
   "source": [
    "***\n",
    "\n",
    "Another great way of visualising model performance is a so-called **confusion plot**. It plots predicted labels against actual labels. \n",
    "\n",
    "We've provided you with the confusion matrix for our version of the feed forward network trained on CIFAR-10. It displays the prediction performance on the training set.\n",
    "\n",
    "Take a look at the plot:\n",
    "\n",
    "![confusion plot](http://www.paulvangent.com/files/DL_Course/day1_images/confusionmatrix_cifar10.png)\n",
    "\n",
    "Already some pretty interesting patterns are visible! Cars and trucks are confused, which makes sense. In general, the inanimate objects (airplane, automobile, ship, truck) are confused with each other more often than the animals in the set. \n",
    "\n",
    "**What do you think, is this indicative of the model learning rules that would help it to generalise?** Incorrect results can often give a lot more information than correct ones.\n",
    "\n",
    "For more information on how to make your own confusion plot, [take a look here](http://scikit-learn.org/stable/auto_examples/model_selection/plot_confusion_matrix.html#sphx-glr-auto-examples-model-selection-plot-confusion-matrix-py)"
   ]
  },
  {
   "cell_type": "markdown",
   "metadata": {
    "colab_type": "text",
    "collapsed": true,
    "id": "YcDyQsQDfGrq"
   },
   "source": [
    "***\n",
    "## 8 - Wrapping up\n",
    "Our simple neural network with two hidden layers doesn't work very well for the CIFAR data. After 10 epochs our version of the model reaches ~50% accuracy. While a lot higher than the ~10% chance level we would expect if the network learned absolutely nothing from the data, it still means that **half the time** our prediction is **dead wrong**.\n",
    "\n",
    "Could training longer be an option? To illustrate, we let the model run a little longer (50 epochs) on a powerful GPU, but the model only ended up overfitting. As displayed on the plot below, the signs of overfitting are there. You can spot overfitting:\n",
    "- The training accuracy keeps increasing but the validation accuracy flattens off: the model isn't learning anything new that helps it generalise, it only learns to fit the training set better. **Can you explain why that is bad? Is it always bad?**\n",
    "- Similarly, the training loss keeps decreasing but the validation loss flattens off, and even starts increasing again later on. **Can you explain how this relates to overfitting?**\n",
    "\n",
    "![50 epochs](http://www.paulvangent.com/files/DL_Course/day1_images/NN_plot1.jpg)\n",
    "\n",
    "***\n",
    "**Maybe adding more layers might work?** As an example, we added 5 more hidden layers of a larger size (2048 neurons each) with regularisation layers in between, and let the model run for 50 epochs. The behaviour is very similar to what is displayed above, indicating this is not a sound strategy:\n",
    "\n",
    "![50 epochs with bigger network](http://www.paulvangent.com/files/DL_Course/day1_images/NN_plots_biggernet2.png)\n",
    "***\n",
    "We might even try... \n",
    "![really?](http://www.paulvangent.com/files/DL_Course/day1_images/layers.jpg)\n",
    "\n",
    "But then we run into serious issues with available computation power and memory, and it likely will not improve performance. Clearly slapping more layers onto the model is not the correct approach.\n",
    "\n",
    "It's time to dig a little deeper.\n",
    "\n",
    "![deeeeeeeeeeeeeeper](http://www.paulvangent.com/files/DL_Course/day1_images/deeper.jpg)\n",
    "\n",
    "Much deeper.\n",
    "\n",
    "\n",
    "- **When adding more layers the network becomes more complex, what is the effect on overfitting? Can you explain?**\n",
    "- **How can we counteract the tendency to overfit?**\n",
    "- **What will the effect of regularisation be?**\n",
    "\n",
    "***\n",
    "For more information on how the learning rate affects the network fitting behaviour, take a look [at this link](https://towardsdatascience.com/understanding-learning-rates-and-how-it-improves-performance-in-deep-learning-d0d4059c1c10)\n",
    "***"
   ]
  },
  {
   "cell_type": "markdown",
   "metadata": {
    "colab_type": "text",
    "collapsed": true,
    "id": "_MeyKO2DfGrq"
   },
   "source": [
    "## Next steps\n",
    "\n",
    "Congratulations on making it this far! In the next exercise notebook we will be looking at implementing a **convolutional neural network**, and applying it to CIFAR-100 to see if it works any better than a standard feedforward network.\n",
    "\n",
    "In stead of adding more layers, we will be adding smarter layers.\n",
    "\n",
    "[Click here to go to it](Exercise 2 - Convolutional Neural Nets.ipynb)"
   ]
  },
  {
   "cell_type": "code",
   "execution_count": null,
   "metadata": {
    "colab": {},
    "colab_type": "code",
    "collapsed": true,
    "id": "we4uIg5efGrr"
   },
   "outputs": [],
   "source": []
  }
 ],
 "metadata": {
  "accelerator": "GPU",
  "colab": {
   "collapsed_sections": [],
   "name": "Exercise_1_Feedforward_Neural_Nets_answermodel.ipynb",
   "provenance": [],
   "version": "0.3.2"
  },
  "kernelspec": {
   "display_name": "Python 3",
   "language": "python",
   "name": "python3"
  },
  "language_info": {
   "codemirror_mode": {
    "name": "ipython",
    "version": 3
   },
   "file_extension": ".py",
   "mimetype": "text/x-python",
   "name": "python",
   "nbconvert_exporter": "python",
   "pygments_lexer": "ipython3",
   "version": "3.6.3"
  }
 },
 "nbformat": 4,
 "nbformat_minor": 1
}
